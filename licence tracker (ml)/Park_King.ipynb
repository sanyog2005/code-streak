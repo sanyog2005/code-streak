{
 "cells": [
  {
   "cell_type": "code",
   "execution_count": 1,
   "id": "7a480b43-1f98-4e24-ae63-619f9eb392f2",
   "metadata": {},
   "outputs": [
    {
     "name": "stdout",
     "output_type": "stream",
     "text": [
      "Requirement already satisfied: pytesseract in c:\\users\\dell\\.conda\\envs\\v_nav\\lib\\site-packages (0.3.10)\n",
      "Requirement already satisfied: packaging>=21.3 in c:\\users\\dell\\.conda\\envs\\v_nav\\lib\\site-packages (from pytesseract) (23.1)\n",
      "Requirement already satisfied: Pillow>=8.0.0 in c:\\users\\dell\\.conda\\envs\\v_nav\\lib\\site-packages (from pytesseract) (10.2.0)\n",
      "Note: you may need to restart the kernel to use updated packages.\n"
     ]
    }
   ],
   "source": [
    "pip install pytesseract\n"
   ]
  },
  {
   "cell_type": "code",
   "execution_count": 2,
   "id": "19b91aee-c489-4106-84dc-cbf882d8921a",
   "metadata": {},
   "outputs": [
    {
     "name": "stdout",
     "output_type": "stream",
     "text": [
      "Requirement already satisfied: imutils in c:\\users\\dell\\.conda\\envs\\v_nav\\lib\\site-packages (0.5.4)\n",
      "Note: you may need to restart the kernel to use updated packages.\n"
     ]
    }
   ],
   "source": [
    "pip install imutils"
   ]
  },
  {
   "cell_type": "code",
   "execution_count": 3,
   "id": "e7e3a1ff-048e-44d2-9019-c9e953c609b5",
   "metadata": {},
   "outputs": [],
   "source": [
    "import cv2\n",
    "import imutils\n",
    "import pytesseract"
   ]
  },
  {
   "cell_type": "code",
   "execution_count": 4,
   "id": "8c0ab264-f89f-4123-8f12-ea5b7933407b",
   "metadata": {},
   "outputs": [],
   "source": [
    "pytesseract.pytesseract.tesseract_cmd=r\"C:\\Program Files\\Tesseract-OCR\\tesseract.exe\""
   ]
  },
  {
   "cell_type": "code",
   "execution_count": 5,
   "id": "7626bd12-1298-4041-ad19-7c333569b56d",
   "metadata": {},
   "outputs": [],
   "source": [
    "image=cv2.imread(r\"C:\\Users\\Dell\\Desktop\\Park king\\Car#.jpg\")"
   ]
  },
  {
   "cell_type": "code",
   "execution_count": 6,
   "id": "10c940b7-de89-4707-9d07-3653c48b9cbd",
   "metadata": {},
   "outputs": [
    {
     "data": {
      "text/plain": [
       "-1"
      ]
     },
     "execution_count": 6,
     "metadata": {},
     "output_type": "execute_result"
    }
   ],
   "source": [
    "image=imutils.resize(image,width=500)\n",
    "cv2.imshow(\"Original Image\",image)\n",
    "cv2.imwrite(\"Original_image.jpg\", image)\n",
    "cv2.waitKey(0)"
   ]
  },
  {
   "cell_type": "code",
   "execution_count": 7,
   "id": "a1de1e12-d743-499a-a3ad-9a47741094d0",
   "metadata": {},
   "outputs": [
    {
     "data": {
      "text/plain": [
       "-1"
      ]
     },
     "execution_count": 7,
     "metadata": {},
     "output_type": "execute_result"
    }
   ],
   "source": [
    "gray=cv2.cvtColor(image,cv2.COLOR_BGR2GRAY)\n",
    "cv2.imshow(\"Gray Scal Image\",gray)\n",
    "cv2.imwrite(\"gray_scal_image.jpg\", gray)\n",
    "cv2.waitKey(0)"
   ]
  },
  {
   "cell_type": "code",
   "execution_count": 8,
   "id": "083b7670-c9b6-475f-97c8-c949d7e875ee",
   "metadata": {},
   "outputs": [
    {
     "data": {
      "text/plain": [
       "-1"
      ]
     },
     "execution_count": 8,
     "metadata": {},
     "output_type": "execute_result"
    }
   ],
   "source": [
    "gray=cv2.bilateralFilter(gray,11,17,17)\n",
    "cv2.imshow(\"Shmooth Image\",gray)\n",
    "cv2.imwrite(\"shmooth_image.jpg\", gray)\n",
    "cv2.waitKey(0)"
   ]
  },
  {
   "cell_type": "code",
   "execution_count": 9,
   "id": "02a51557-9d9a-4c16-93de-52097a772000",
   "metadata": {},
   "outputs": [
    {
     "data": {
      "text/plain": [
       "-1"
      ]
     },
     "execution_count": 9,
     "metadata": {},
     "output_type": "execute_result"
    }
   ],
   "source": [
    "edged=cv2.Canny(gray,180,200)\n",
    "cv2.imshow(\"Canny edge\",edged)\n",
    "cv2.imwrite(\"edged_image.jpg\", edged)\n",
    "cv2.waitKey(0)          "
   ]
  },
  {
   "cell_type": "code",
   "execution_count": 10,
   "id": "cf397acf-16ea-4381-88e9-b117acd6bfe8",
   "metadata": {},
   "outputs": [],
   "source": [
    "cnts,new=cv2.findContours(edged.copy(),cv2.RETR_LIST,cv2.CHAIN_APPROX_SIMPLE)"
   ]
  },
  {
   "cell_type": "code",
   "execution_count": 11,
   "id": "45292215-a52a-4215-8c5e-7a456cee8960",
   "metadata": {},
   "outputs": [
    {
     "data": {
      "text/plain": [
       "-1"
      ]
     },
     "execution_count": 11,
     "metadata": {},
     "output_type": "execute_result"
    }
   ],
   "source": [
    "image1=image.copy()\n",
    "cv2.drawContours(image1,cnts,-1,(0,255,0),3)\n",
    "cv2.imshow(\"Canny contouring\",image1)\n",
    "cv2.imwrite(\"contoured_image.jpg\", image1)\n",
    "cv2.waitKey(0)          "
   ]
  },
  {
   "cell_type": "code",
   "execution_count": 12,
   "id": "e73f68be-0a03-4d21-a694-e720eca545d5",
   "metadata": {},
   "outputs": [],
   "source": [
    "cnts=sorted(cnts,key=cv2.contourArea,reverse=True)[:30]\n",
    "NumberPlateCount=None\n"
   ]
  },
  {
   "cell_type": "code",
   "execution_count": 13,
   "id": "d2a0c257-9ef1-4033-b080-a4b61a90fa5b",
   "metadata": {},
   "outputs": [
    {
     "data": {
      "text/plain": [
       "-1"
      ]
     },
     "execution_count": 13,
     "metadata": {},
     "output_type": "execute_result"
    }
   ],
   "source": [
    "image2=image.copy()\n",
    "cv2.drawContours(image2,cnts,-1,(0,255,0),3)\n",
    "cv2.imshow(\"Top 30 Contours\",image2)\n",
    "cv2.imwrite(\"Top_30_Contours.jpg\", image2)\n",
    "cv2.waitKey(0) "
   ]
  },
  {
   "cell_type": "code",
   "execution_count": 14,
   "id": "7ed65e91-0f44-4b3d-bac4-3301796fa3df",
   "metadata": {},
   "outputs": [
    {
     "data": {
      "text/plain": [
       "-1"
      ]
     },
     "execution_count": 14,
     "metadata": {},
     "output_type": "execute_result"
    }
   ],
   "source": [
    "count=0\n",
    "name=1\n",
    "for i in cnts:\n",
    "    perimeter=cv2.arcLength(i,True)\n",
    "    approx=cv2.approxPolyDP(i,0.02*perimeter,True)\n",
    "    if(len(approx)==4):\n",
    "        NumberPlateCount=approx\n",
    "        x,y,w,h=cv2.boundingRect(i)\n",
    "        crp_img=image[y:y+h,x:x+w]\n",
    "        cv2.imwrite(str(name)+'.png',crp_img)\n",
    "        name+=1\n",
    "        break\n",
    "cv2.drawContours(image,[NumberPlateCount],-1,(0,255,0),3)\n",
    "cv2.imshow(\"Final Image\",image)\n",
    "cv2.imwrite(\"Final_image.jpg\", image)\n",
    "cv2.waitKey(0) "
   ]
  },
  {
   "cell_type": "code",
   "execution_count": 15,
   "id": "693a3ef0-83c2-4183-b49f-816bce33b969",
   "metadata": {},
   "outputs": [
    {
     "data": {
      "text/plain": [
       "-1"
      ]
     },
     "execution_count": 15,
     "metadata": {},
     "output_type": "execute_result"
    }
   ],
   "source": [
    "crop_img_loc='1.png'\n",
    "cv2.imshow(\"Cropped Image\",cv2.imread(crop_img_loc))\n",
    "cv2.waitKey(0) "
   ]
  },
  {
   "cell_type": "code",
   "execution_count": 16,
   "id": "9729e271-0fd0-4ccc-a407-31e4b67a2a4f",
   "metadata": {},
   "outputs": [
    {
     "name": "stdout",
     "output_type": "stream",
     "text": [
      "Number is : MH 14BR 6899\n",
      "\n"
     ]
    },
    {
     "data": {
      "text/plain": [
       "-1"
      ]
     },
     "execution_count": 16,
     "metadata": {},
     "output_type": "execute_result"
    }
   ],
   "source": [
    "text=pytesseract.image_to_string(crop_img_loc,lang=\"eng\")\n",
    "print(\"Number is :\",text)\n",
    "cv2.waitKey(0) "
   ]
  },
  {
   "cell_type": "code",
   "execution_count": null,
   "id": "4c8e09c2-7f6a-4b5a-994b-c97a32ccf0d9",
   "metadata": {},
   "outputs": [],
   "source": []
  }
 ],
 "metadata": {
  "kernelspec": {
   "display_name": "Python 3 (ipykernel)",
   "language": "python",
   "name": "python3"
  },
  "language_info": {
   "codemirror_mode": {
    "name": "ipython",
    "version": 3
   },
   "file_extension": ".py",
   "mimetype": "text/x-python",
   "name": "python",
   "nbconvert_exporter": "python",
   "pygments_lexer": "ipython3",
   "version": "3.9.18"
  }
 },
 "nbformat": 4,
 "nbformat_minor": 5
}
